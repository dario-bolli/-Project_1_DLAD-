{
 "cells": [
  {
   "cell_type": "code",
   "execution_count": null,
   "metadata": {},
   "outputs": [
    {
     "name": "stdout",
     "output_type": "stream",
     "text": [
      "[-3.13886121 -3.13875788 -3.13873458 ...  3.14425787  3.14429495\n",
      "  3.14429889]\n"
     ]
    }
   ],
   "source": [
    "import numpy as np\n",
    "from matplotlib import pyplot as plt\n",
    "import os\n",
    "from load_data import load_data\n",
    "import cv2 \n",
    "import data_utils\n",
    "import os\n",
    "\n",
    "#####Transformation Matrix\n",
    "num_points = 429\n",
    "\n",
    "M = np.zeros((4,4,num_points))\n",
    "a = np.array([0,0,0,1])\n",
    "vel = np.zeros((3,num_points))\n",
    "ang = np.zeros((3,num_points))\n",
    "#point_cloud = np.zeros((3,num_points))\n",
    "sample_start = np.zeros(num_points)\n",
    "sample_camera = np.zeros(num_points)\n",
    "sample_end = np.zeros(num_points)\n",
    "\n",
    "time_start = 'data/problem_4/velodyne_points/timestamps_start.txt'\n",
    "time_camera = 'data/problem_4/velodyne_points/timestamps.txt'\n",
    "time_end = 'data/problem_4/velodyne_points/timestamps_end.txt'\n",
    "\n",
    "angle_start_velo = np.zeros(num_points)\n",
    "for i in range(num_points):\n",
    "    file_index = str(i)\n",
    "    str_0 = (10-len(file_index))*\"0\"\n",
    "    data_path = os.path.join('data/problem_4/oxts/data/', str_0 + file_index+ '.txt')\n",
    "    vel[:,i] = data_utils.load_oxts_velocity(data_path)\n",
    "    ang[:,i] = data_utils.load_oxts_angular_rate(data_path)\n",
    "    sample_start[i] = data_utils.compute_timestamps(time_start, i)\n",
    "    sample_camera[i] = data_utils.compute_timestamps(time_camera, i)\n",
    "    sample_end[i] = data_utils.compute_timestamps(time_end, i)\n",
    "    #3. Compute translation using angular velocity and velocity\n",
    "    pos_xy_cam = -vel[0:2, i]*(sample_camera[i]-sample_start[i])\n",
    "    #4.Compute rotation using pos and angular velocity\n",
    "    teta = -ang[2, i]*(sample_camera[i]-sample_start[i])\n",
    "    R = np.array([[np.cos(teta), -np.sin(teta), 0],\n",
    "                [np.sin(teta), np.cos(teta), 0],\n",
    "                [0,             0,     1]])\n",
    "    T = np.array([[pos_xy_cam[0]],\n",
    "                [pos_xy_cam[1]],\n",
    "                [0]])\n",
    "\n",
    "    inter = np.hstack((R,T))\n",
    "    inter = np.vstack((inter, a))\n",
    "    M[:,:,i] = inter\n",
    "    \n",
    "    w_velodyne = 2*np.pi/(sample_end[i]-sample_start[i])\n",
    "    ang_no_corr = w_velodyne*(sample_camera[i]-sample_start[i])\n",
    "    angle_start_velo[i] = ang_no_corr + teta\n",
    "         \n",
    "    ####Velodyne points\n",
    "    file_index = str(i)\n",
    "    str_0 = (10-len(file_index))*\"0\"\n",
    "    data_velodyne = os.path.join('data/problem_4/velodyne_points/data/', str_0 + file_index+ '.bin')\n",
    "    point_cloud = data_utils.load_from_bin(data_velodyne)\n",
    "    alpha = np.zeros(point_cloud.shape[0])\n",
    "    for j in range(point_cloud.shape[0]):\n",
    "        hyp = np.sqrt(point_cloud[j,0]**2+point_cloud[j,1]**2)\n",
    "        alpha[j] = np.arcsin(point_cloud[j,1]/hyp)\n",
    "        cos = point_cloud[j,0]/hyp\n",
    "        if cos < 0:\n",
    "            alpha[j] = alpha[j] + np.pi\n",
    "        if alpha[j] < 0:\n",
    "            alpha[j] = 2*np.pi + alpha[j]\n",
    "        alpha[j] = alpha[j] - angle_start_velo[i]\n",
    "    np.argmin(dist)\n",
    "    #alpha = np.sort(alpha)\n",
    "    if i ==1:\n",
    "        print(alpha)\n",
    "        "
   ]
  },
  {
   "cell_type": "code",
   "execution_count": null,
   "metadata": {},
   "outputs": [],
   "source": []
  }
 ],
 "metadata": {
  "kernelspec": {
   "display_name": "Python 3",
   "language": "python",
   "name": "python3"
  },
  "language_info": {
   "codemirror_mode": {
    "name": "ipython",
    "version": 3
   },
   "file_extension": ".py",
   "mimetype": "text/x-python",
   "name": "python",
   "nbconvert_exporter": "python",
   "pygments_lexer": "ipython3",
   "version": "3.7.4"
  }
 },
 "nbformat": 4,
 "nbformat_minor": 2
}
