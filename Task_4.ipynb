{
 "cells": [
  {
   "cell_type": "code",
   "execution_count": 62,
   "metadata": {},
   "outputs": [
    {
     "ename": "ValueError",
     "evalue": "could not convert string to float: '.4038076277858 112.27736663818 -0.036013 0.014207 2.4604553267949 10.145908714213 -12.387683958254 16.012347313547 0.033591983202533 -0.074213743837509 -0.19537475520848 0.39420171994315 9.9486430806801 -0.061153063890409 0.74428459136438 9.9304219742518 -0.015045208498192 0.010407693597086 0.052951987338967 -0.01433264035392 0.012267385764857 0.052746279344777 0.74276241154221 0.029698484809835 4 13 4 4 6\\n'",
     "output_type": "error",
     "traceback": [
      "\u001b[1;31m---------------------------------------------------------------------------\u001b[0m",
      "\u001b[1;31mValueError\u001b[0m                                Traceback (most recent call last)",
      "\u001b[1;32m<ipython-input-62-d397d923d5e1>\u001b[0m in \u001b[0;36m<module>\u001b[1;34m\u001b[0m\n\u001b[0;32m     36\u001b[0m     \u001b[0mvel\u001b[0m\u001b[1;33m[\u001b[0m\u001b[1;33m:\u001b[0m\u001b[1;33m,\u001b[0m\u001b[0mi\u001b[0m\u001b[1;33m]\u001b[0m \u001b[1;33m=\u001b[0m \u001b[0mdata_utils\u001b[0m\u001b[1;33m.\u001b[0m\u001b[0mload_oxts_velocity\u001b[0m\u001b[1;33m(\u001b[0m\u001b[0mdata_path\u001b[0m\u001b[1;33m)\u001b[0m\u001b[1;33m\u001b[0m\u001b[1;33m\u001b[0m\u001b[0m\n\u001b[0;32m     37\u001b[0m     \u001b[0mang\u001b[0m\u001b[1;33m[\u001b[0m\u001b[1;33m:\u001b[0m\u001b[1;33m,\u001b[0m\u001b[0mi\u001b[0m\u001b[1;33m]\u001b[0m \u001b[1;33m=\u001b[0m \u001b[0mdata_utils\u001b[0m\u001b[1;33m.\u001b[0m\u001b[0mload_oxts_angular_rate\u001b[0m\u001b[1;33m(\u001b[0m\u001b[0mdata_path\u001b[0m\u001b[1;33m)\u001b[0m\u001b[1;33m\u001b[0m\u001b[1;33m\u001b[0m\u001b[0m\n\u001b[1;32m---> 38\u001b[1;33m     \u001b[0mtime\u001b[0m\u001b[1;33m[\u001b[0m\u001b[0mi\u001b[0m\u001b[1;33m]\u001b[0m \u001b[1;33m=\u001b[0m \u001b[0mdata_utils\u001b[0m\u001b[1;33m.\u001b[0m\u001b[0mcompute_timestamps\u001b[0m\u001b[1;33m(\u001b[0m\u001b[0mdata_path\u001b[0m\u001b[1;33m,\u001b[0m \u001b[0mi\u001b[0m\u001b[1;33m)\u001b[0m\u001b[1;33m\u001b[0m\u001b[1;33m\u001b[0m\u001b[0m\n\u001b[0m\u001b[0;32m     39\u001b[0m     \u001b[1;31m#3. Compute translation using angular velocity and velocity\u001b[0m\u001b[1;33m\u001b[0m\u001b[1;33m\u001b[0m\u001b[1;33m\u001b[0m\u001b[0m\n\u001b[0;32m     40\u001b[0m     \u001b[1;32mif\u001b[0m \u001b[0mi\u001b[0m \u001b[1;33m>\u001b[0m \u001b[1;36m0\u001b[0m\u001b[1;33m:\u001b[0m\u001b[1;33m\u001b[0m\u001b[1;33m\u001b[0m\u001b[0m\n",
      "\u001b[1;32m~\\Documents\\DARIO\\ETUDES\\ETH\\courses\\1st year\\2nd semester\\Deep learning for autonomous driving\\project 1\\code\\data_utils.py\u001b[0m in \u001b[0;36mcompute_timestamps\u001b[1;34m(timestamps_f, ind)\u001b[0m\n\u001b[0;32m    102\u001b[0m         \u001b[0mtimestamps_\u001b[0m \u001b[1;33m=\u001b[0m \u001b[0mtimestamps_\u001b[0m\u001b[1;33m[\u001b[0m\u001b[0mint\u001b[0m\u001b[1;33m(\u001b[0m\u001b[0mind\u001b[0m\u001b[1;33m)\u001b[0m\u001b[1;33m]\u001b[0m\u001b[1;33m\u001b[0m\u001b[1;33m\u001b[0m\u001b[0m\n\u001b[0;32m    103\u001b[0m         \u001b[0mtimestamps_\u001b[0m \u001b[1;33m=\u001b[0m \u001b[0mtimestamps_\u001b[0m\u001b[1;33m[\u001b[0m\u001b[1;36m11\u001b[0m\u001b[1;33m:\u001b[0m\u001b[1;33m]\u001b[0m\u001b[1;33m\u001b[0m\u001b[1;33m\u001b[0m\u001b[0m\n\u001b[1;32m--> 104\u001b[1;33m         \u001b[0mtimestamps_\u001b[0m \u001b[1;33m=\u001b[0m \u001b[0mnp\u001b[0m\u001b[1;33m.\u001b[0m\u001b[0mdouble\u001b[0m\u001b[1;33m(\u001b[0m\u001b[0mtimestamps_\u001b[0m\u001b[1;33m[\u001b[0m\u001b[1;33m:\u001b[0m\u001b[1;36m2\u001b[0m\u001b[1;33m]\u001b[0m\u001b[1;33m)\u001b[0m \u001b[1;33m*\u001b[0m \u001b[1;36m3600\u001b[0m \u001b[1;33m+\u001b[0m \u001b[0mnp\u001b[0m\u001b[1;33m.\u001b[0m\u001b[0mdouble\u001b[0m\u001b[1;33m(\u001b[0m\u001b[0mtimestamps_\u001b[0m\u001b[1;33m[\u001b[0m\u001b[1;36m3\u001b[0m\u001b[1;33m:\u001b[0m\u001b[1;36m5\u001b[0m\u001b[1;33m]\u001b[0m\u001b[1;33m)\u001b[0m \u001b[1;33m*\u001b[0m \u001b[1;36m60\u001b[0m \u001b[1;33m+\u001b[0m \u001b[0mnp\u001b[0m\u001b[1;33m.\u001b[0m\u001b[0mdouble\u001b[0m\u001b[1;33m(\u001b[0m\u001b[0mtimestamps_\u001b[0m\u001b[1;33m[\u001b[0m\u001b[1;36m6\u001b[0m\u001b[1;33m:\u001b[0m\u001b[1;33m]\u001b[0m\u001b[1;33m)\u001b[0m\u001b[1;33m\u001b[0m\u001b[1;33m\u001b[0m\u001b[0m\n\u001b[0m\u001b[0;32m    105\u001b[0m     \u001b[1;32mreturn\u001b[0m \u001b[0mtimestamps_\u001b[0m\u001b[1;33m\u001b[0m\u001b[1;33m\u001b[0m\u001b[0m\n\u001b[0;32m    106\u001b[0m \u001b[1;33m\u001b[0m\u001b[0m\n",
      "\u001b[1;31mValueError\u001b[0m: could not convert string to float: '.4038076277858 112.27736663818 -0.036013 0.014207 2.4604553267949 10.145908714213 -12.387683958254 16.012347313547 0.033591983202533 -0.074213743837509 -0.19537475520848 0.39420171994315 9.9486430806801 -0.061153063890409 0.74428459136438 9.9304219742518 -0.015045208498192 0.010407693597086 0.052951987338967 -0.01433264035392 0.012267385764857 0.052746279344777 0.74276241154221 0.029698484809835 4 13 4 4 6\\n'"
     ]
    }
   ],
   "source": [
    "import numpy as np\n",
    "from matplotlib import pyplot as plt\n",
    "import os\n",
    "from load_data import load_data\n",
    "import cv2 \n",
    "import data_utils\n",
    "import os\n",
    "dirname = os.path.dirname(os.path.abspath('Task4'))\n",
    "\n",
    "\n",
    "num_points = 2\n",
    "\n",
    "\n",
    "#For one 360 deg sweep:\n",
    "#1. Get position, velocity, angular velocity in A\n",
    "#pos_A = data_utils.load_oxts_GPS(0)\n",
    "vel_A = data_utils.load_oxts_velocity('data/problem_4/oxts/data/0000000000.txt')\n",
    "ang_A = data_utils.load_oxts_angular_rate('data/problem_4/oxts/data/0000000000.txt')\n",
    "time_A = data_utils.compute_timestamps('data/problem_4/oxts/timestamps.txt', 0)\n",
    "#2. Get position, velocity, angular velocity in B\n",
    "#pos_B = data_utils.load_oxts_GPS(1)\n",
    "#print(pos_B)\n",
    "vel_B = data_utils.load_oxts_velocity('data/problem_4/oxts/data/0000000001.txt')\n",
    "ang_B = data_utils.load_oxts_angular_rate('data/problem_4/oxts/data/0000000001.txt')\n",
    "time_B = data_utils.compute_timestamps('data/problem_4/oxts/timestamps.txt', 1)\n",
    "\n",
    "M = np.zeros((4,4,num_points-1))\n",
    "a = np.array([0,0,0,1])\n",
    "vel = np.zeros((3,num_points))\n",
    "ang = np.zeros((3,num_points))\n",
    "time = np.zeros(num_points)\n",
    "for i in range(num_points):\n",
    "    file_index = str(1)\n",
    "    str_0 = (10-len(file_index))*\"0\"\n",
    "    data_path = os.path.join('data/problem_4/oxts/data/', str_0 + file_index+ '.txt')\n",
    "    vel[:,i] = data_utils.load_oxts_velocity(data_path)\n",
    "    ang[:,i] = data_utils.load_oxts_angular_rate(data_path)\n",
    "    time[i] = data_utils.compute_timestamps(data_path, i)\n",
    "    #3. Compute translation using angular velocity and velocity\n",
    "    if i > 0:\n",
    "        pos_xy_B = vel[0:2, i-1]*(time[i]-time[i-1])\n",
    "        #4.Compute rotation using pos and angular velocity\n",
    "        teta = ang[2, i-1]*(time[i]-time[i-1])\n",
    "        R = np.array([[np.cos(teta), -np.sin(teta), 0],\n",
    "                     [np.sin(teta), np.cos(teta), 0],\n",
    "                     [0,             0,     1]])\n",
    "        T = np.array([[pos_xy_B[0]],\n",
    "                    [pos_xy_B[1]],\n",
    "                    [0]])\n",
    "\n",
    "        inter = np.hstack((R,T))\n",
    "        inter = np.vstack((inter, a))\n",
    "        M[:,:,i-1] = inter\n",
    "\n",
    "#5.Apply transformation to get all the Points taken, in coordinate A (when image was taken)\n",
    "#6.Interpolate as rigid transformation problem?\n",
    "#repeat for all stimestamps\n",
    "\n",
    "time_start_A = data_utils.compute_timestamps('data/problem_4/velodyne_points/timestamps_start.txt', 0)\n",
    "time_end_A = data_utils.compute_timestamps('data/problem_4/velodyne_points/timestamps_end.txt', 0)\n",
    "time_A = data_utils.compute_timestamps('data/problem_4/velodyne_points/timestamps.txt', 0)\n"
   ]
  }
 ],
 "metadata": {
  "kernelspec": {
   "display_name": "Python 3",
   "language": "python",
   "name": "python3"
  },
  "language_info": {
   "codemirror_mode": {
    "name": "ipython",
    "version": 3
   },
   "file_extension": ".py",
   "mimetype": "text/x-python",
   "name": "python",
   "nbconvert_exporter": "python",
   "pygments_lexer": "ipython3",
   "version": "3.7.4"
  }
 },
 "nbformat": 4,
 "nbformat_minor": 2
}
