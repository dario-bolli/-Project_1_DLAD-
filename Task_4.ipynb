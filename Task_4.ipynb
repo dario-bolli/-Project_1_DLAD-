{
 "cells": [
  {
   "cell_type": "code",
   "execution_count": 80,
   "metadata": {},
   "outputs": [
    {
     "ename": "SyntaxError",
     "evalue": "invalid syntax (<ipython-input-80-0ae3f665ab85>, line 46)",
     "output_type": "error",
     "traceback": [
      "\u001b[1;36m  File \u001b[1;32m\"<ipython-input-80-0ae3f665ab85>\"\u001b[1;36m, line \u001b[1;32m46\u001b[0m\n\u001b[1;33m    data_path = os.path.join(dirname,'data\\problem_4\\velodyne_points\\data\\', '0000000000.txt')\u001b[0m\n\u001b[1;37m                                                                                        ^\u001b[0m\n\u001b[1;31mSyntaxError\u001b[0m\u001b[1;31m:\u001b[0m invalid syntax\n"
     ]
    }
   ],
   "source": [
    "import numpy as np\n",
    "from matplotlib import pyplot as plt\n",
    "import os\n",
    "from load_data import load_data\n",
    "import cv2 \n",
    "import data_utils\n",
    "import os\n",
    "\n",
    "#####Transformation Matrix\n",
    "num_points = 429\n",
    "\n",
    "M = np.zeros((4,4,num_points-1))\n",
    "a = np.array([0,0,0,1])\n",
    "vel = np.zeros((3,num_points))\n",
    "ang = np.zeros((3,num_points))\n",
    "time = np.zeros(num_points)\n",
    "\n",
    "data_path_time = 'data/problem_4/oxts/timestamps.txt'\n",
    "for i in range(num_points):\n",
    "    file_index = str(1)\n",
    "    str_0 = (10-len(file_index))*\"0\"\n",
    "    data_path = os.path.join('data/problem_4/oxts/data/', str_0 + file_index+ '.txt')\n",
    "    vel[:,i] = data_utils.load_oxts_velocity(data_path)\n",
    "    ang[:,i] = data_utils.load_oxts_angular_rate(data_path)\n",
    "    time[i] = data_utils.compute_timestamps(data_path_time, i)\n",
    "    #3. Compute translation using angular velocity and velocity\n",
    "    if i > 0:\n",
    "        pos_xy_B = vel[0:2, i-1]*(time[i]-time[i-1])\n",
    "        #4.Compute rotation using pos and angular velocity\n",
    "        teta = ang[2, i-1]*(time[i]-time[i-1])\n",
    "        R = np.array([[np.cos(teta), -np.sin(teta), 0],\n",
    "                     [np.sin(teta), np.cos(teta), 0],\n",
    "                     [0,             0,     1]])\n",
    "        T = np.array([[pos_xy_B[0]],\n",
    "                    [pos_xy_B[1]],\n",
    "                    [0]])\n",
    "\n",
    "        inter = np.hstack((R,T))\n",
    "        inter = np.vstack((inter, a))\n",
    "        M[:,:,i-1] = inter\n",
    "\n",
    "print(M[:,:,420])      \n",
    "####Velodyne points\n",
    "point_cloud = data_utils.load_from_bin('data/problem_4/velodyne_points/data/0000000000.txt')\n",
    "\n"
   ]
  }
 ],
 "metadata": {
  "kernelspec": {
   "display_name": "Python 3",
   "language": "python",
   "name": "python3"
  },
  "language_info": {
   "codemirror_mode": {
    "name": "ipython",
    "version": 3
   },
   "file_extension": ".py",
   "mimetype": "text/x-python",
   "name": "python",
   "nbconvert_exporter": "python",
   "pygments_lexer": "ipython3",
   "version": "3.7.4"
  }
 },
 "nbformat": 4,
 "nbformat_minor": 2
}
