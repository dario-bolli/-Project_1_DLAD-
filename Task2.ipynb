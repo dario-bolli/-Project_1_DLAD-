{
 "cells": [
  {
   "cell_type": "code",
   "execution_count": 11,
   "metadata": {},
   "outputs": [
    {
     "name": "stdout",
     "output_type": "stream",
     "text": [
      "[0]\n",
      "[546.58071526 544.29695572 539.71977822 ... 921.70611441 919.01920834\n",
      " 917.68746828]\n"
     ]
    }
   ],
   "source": [
    "import numpy as np\n",
    "from matplotlib import pyplot as plt\n",
    "import os\n",
    "from load_data import load_data\n",
    "import cv2 \n",
    "#visual = __import__ ('3dvis')\n",
    "\n",
    "dirname = os.path.dirname(os.path.abspath('Ex1'))\n",
    "data_path = os.path.join(dirname,'data', 'data.p')\n",
    "data = load_data(data_path)\n",
    "\n",
    "# extract data\n",
    "#point cloud\n",
    "xyz_velodyne = data['velodyne'][:,0:3] #data from 0 to 3-1\n",
    "\n",
    "#projection matrices\n",
    "P = data['P_rect_20']\n",
    "T = data['T_cam2_velo']\n",
    "#image\n",
    "image2 = data['image_2']\n",
    "#labels\n",
    "sem_label = data['sem_label']\n",
    "color_map = data['color_map']\n",
    "\n",
    "#filter points with negative x\n",
    "velodyne_fltrd = []\n",
    "sem_label_fltrd = []\n",
    "for i in range(xyz_velodyne.shape[0]):\n",
    "    if xyz_velodyne[i, 0] >= 0:\n",
    "        velodyne_fltrd.append(xyz_velodyne[i, :])\n",
    "        sem_label_fltrd.append(sem_label[i])\n",
    "velodyne_fltrd = np.array(velodyne_fltrd)\n",
    "sem_label_fltrd = np.array(sem_label_fltrd)\n",
    "\n",
    "#Projection of point cloud in image 2 coordinates\n",
    "a = np.ones((velodyne_fltrd.shape[0],1))\n",
    "velodyne_fltrd = np.hstack((velodyne_fltrd, a))\n",
    "velodyne_fltrd = np.transpose(velodyne_fltrd)\n",
    "\n",
    "extrin_calib = np.matmul(T,velodyne_fltrd)\n",
    "proj_cloud = np.matmul(P,extrin_calib)/extrin_calib[2,:] #normalization by Zc\n",
    "\n",
    "u,v,k = proj_cloud   #k is an array of ones\n",
    "#for i in range(len(u)):\n",
    "    #if u[i] > 376 or u[i] < 0 or v[i] > 1241 or v[i] < 0:\n",
    "        #u[i] = 0\n",
    "        #v[i] = 0\n",
    "    #else:\n",
    "        #print(u[i])\n",
    "            \n",
    "print(u)\n",
    "u = u.astype(np.int32)\n",
    "v = v.astype(np.int32)\n",
    "\n",
    "\n",
    "\n",
    "#Draw color point cloud on image\n",
    "img = image2.astype(np.uint8)\n",
    "color=np.zeros(velodyne_fltrd.shape[1])\n",
    "for i in range(velodyne_fltrd.shape[1]):\n",
    "    label=sem_label_fltrd[i][0]\n",
    "    color = tuple(color_map.get(label))\n",
    "    # Draw a circle of corresponding color \n",
    "    cv2.circle(img,(u[i],v[i]), 1, color, -1)\n",
    "\n",
    "#cv2.circle(img,(1200, 300),10, (255,0,0), -1)\n",
    "cv2.imshow('image2',img)\n",
    "cv2.waitKey(0)\n",
    "cv2.destroyAllWindows()"
   ]
  },
  {
   "cell_type": "code",
   "execution_count": null,
   "metadata": {},
   "outputs": [],
   "source": []
  }
 ],
 "metadata": {
  "kernelspec": {
   "display_name": "Python 3",
   "language": "python",
   "name": "python3"
  },
  "language_info": {
   "codemirror_mode": {
    "name": "ipython",
    "version": 3
   },
   "file_extension": ".py",
   "mimetype": "text/x-python",
   "name": "python",
   "nbconvert_exporter": "python",
   "pygments_lexer": "ipython3",
   "version": "3.7.4"
  }
 },
 "nbformat": 4,
 "nbformat_minor": 2
}
