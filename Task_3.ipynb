{
 "cells": [
  {
   "cell_type": "code",
   "execution_count": null,
   "metadata": {},
   "outputs": [
    {
     "name": "stdout",
     "output_type": "stream",
     "text": [
      "{0: [0, 0, 0], 1: [0, 0, 255], 10: [245, 150, 100], 11: [245, 230, 100], 13: [250, 80, 100], 15: [150, 60, 30], 16: [255, 0, 0], 18: [180, 30, 80], 20: [255, 0, 0], 30: [30, 30, 255], 31: [200, 40, 255], 32: [90, 30, 150], 40: [255, 0, 255], 44: [255, 150, 255], 48: [75, 0, 75], 49: [75, 0, 175], 50: [0, 200, 255], 51: [50, 120, 255], 52: [0, 150, 255], 60: [170, 255, 150], 70: [0, 175, 0], 71: [0, 60, 135], 72: [80, 240, 150], 80: [150, 240, 255], 81: [0, 0, 255], 99: [255, 255, 50], 252: [245, 150, 100], 256: [255, 0, 0], 253: [200, 40, 255], 254: [30, 30, 255], 255: [90, 30, 150], 257: [250, 80, 100], 258: [180, 30, 80], 259: [255, 0, 0]}\n"
     ]
    }
   ],
   "source": [
    "import numpy as np\n",
    "from matplotlib import pyplot as plt\n",
    "import os\n",
    "from load_data import load_data\n",
    "import cv2 \n",
    "\n",
    "\n",
    "dirname = os.path.dirname(os.path.abspath('Ex1'))\n",
    "data_path = os.path.join(dirname,'data', 'demo.p')\n",
    "data = load_data(data_path)\n",
    "\n",
    "# extract data\n",
    "#point cloud\n",
    "xyz_velodyne = data['velodyne'][:,0:3] #data from 0 to 3-1\n",
    "\n",
    "#projection matrices\n",
    "P = data['P_rect_20']\n",
    "T = data['T_cam2_velo']\n",
    "#image\n",
    "image2 = data['image_2']\n",
    "\n",
    "\n",
    "\n",
    "\n",
    "laser_label = np.zeros(64)\n",
    "color_map = {1: [0, 0, 255], 2:[255,0,0], 3:[0,255,0], 4:[30, 30, 255]}#division par 4 avec reste\n",
    "\n",
    "\n",
    "#cône (360 deg)avec 0,4 deg de différences d'ouverture\n",
    "#distance au cone le plus proche en x,y,z (sphère autour du point?)\n",
    "\n",
    "#filter points with negative x\n",
    "velodyne_fltrd = []\n",
    "laser_label_fltrd = []\n",
    "for i in range(xyz_velodyne.shape[0]):\n",
    "    if xyz_velodyne[i, 0] >= 0:\n",
    "        velodyne_fltrd.append(xyz_velodyne[i, :])\n",
    "        sem_label_fltrd.append(sem_label[i])\n",
    "velodyne_fltrd = np.array(velodyne_fltrd)\n",
    "slaser_label_fltrd = np.array(laser_label_fltrd)\n",
    "\n",
    "#Projection of point cloud in image 2 coordinates\n",
    "a = np.ones((velodyne_fltrd.shape[0],1))\n",
    "velodyne_fltrd = np.hstack((velodyne_fltrd, a))\n",
    "velodyne_fltrd = np.transpose(velodyne_fltrd)\n",
    "\n",
    "extrin_calib = np.matmul(T,velodyne_fltrd)\n",
    "proj_cloud = np.matmul(P,extrin_calib)/extrin_calib[2,:] #normalization by Zc\n",
    "\n",
    "u,v,k = proj_cloud   #k is an array of ones\n",
    "\n",
    "u = u.astype(np.int32)\n",
    "v = v.astype(np.int32)\n",
    "\n",
    "\n",
    "\n",
    "#Draw lasser ID color of the point cloud on image\n",
    "img = image2.astype(np.uint8)\n",
    "color=np.zeros(velodyne_fltrd.shape[1])\n",
    "for i in range(velodyne_fltrd.shape[1]):\n",
    "    label=laser_label_fltrd[i][0]\n",
    "    color = color_map.get(label)\n",
    "    # Draw a circle of corresponding color \n",
    "    cv2.circle(img,(u[i],v[i]), 1, color, -1)\n",
    "cv2.imshow('image2',img)\n",
    "cv2.waitKey(0)\n",
    "cv2.destroyAllWindows()"
   ]
  }
 ],
 "metadata": {
  "kernelspec": {
   "display_name": "Python 3",
   "language": "python",
   "name": "python3"
  },
  "language_info": {
   "codemirror_mode": {
    "name": "ipython",
    "version": 3
   },
   "file_extension": ".py",
   "mimetype": "text/x-python",
   "name": "python",
   "nbconvert_exporter": "python",
   "pygments_lexer": "ipython3",
   "version": "3.7.4"
  }
 },
 "nbformat": 4,
 "nbformat_minor": 2
}
